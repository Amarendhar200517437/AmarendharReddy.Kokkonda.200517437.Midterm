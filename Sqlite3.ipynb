{
 "cells": [
  {
   "cell_type": "code",
   "execution_count": null,
   "id": "5a34612f",
   "metadata": {},
   "outputs": [],
   "source": [
    "import sqlite3 as sqlite\n",
    "\n",
    "con = sqlite.connect('web.db')\n",
    "cur = con.cursor()\n",
    "\n",
    "cur.execute('CREATE TABLE World(name text, continent text, area int, population bigint, gdp bigint)')"
   ]
  },
  {
   "cell_type": "code",
   "execution_count": 21,
   "id": "9edf803a",
   "metadata": {},
   "outputs": [],
   "source": [
    "records = [('Afghanistan', 'Asia', 652230, 25500100, 20343000),\n",
    "          ('Albania', 'Europe', 28748, 2831741, 12960000),\n",
    "          ('Algeria', 'Africa', 2381741, 37100000, 188681000),\n",
    "          ('Andorra', 'Europe', 468, 78115, 3712000),\n",
    "          ('Angola', 'Africa', 1246700, 20609294, 100990000)]"
   ]
  },
  {
   "cell_type": "code",
   "execution_count": 22,
   "id": "45a928ab",
   "metadata": {},
   "outputs": [],
   "source": [
    "for record in records:\n",
    "    cur.execute('INSERT INTO World values(?,?,?,?,?)', record)"
   ]
  },
  {
   "cell_type": "code",
   "execution_count": 23,
   "id": "4175972b",
   "metadata": {},
   "outputs": [
    {
     "data": {
      "text/plain": [
       "<sqlite3.Cursor at 0x220b2d5d7a0>"
      ]
     },
     "execution_count": 23,
     "metadata": {},
     "output_type": "execute_result"
    }
   ],
   "source": [
    "cur.execute('SELECT w.Name, w.Population, Area FROM World as w WHERE w.Area > 3000000 OR w.population > 25000000')"
   ]
  },
  {
   "cell_type": "code",
   "execution_count": 24,
   "id": "600e0ae3",
   "metadata": {},
   "outputs": [],
   "source": [
    "lst = cur.fetchall()"
   ]
  },
  {
   "cell_type": "code",
   "execution_count": 58,
   "id": "040b393a",
   "metadata": {},
   "outputs": [
    {
     "data": {
      "text/plain": [
       "[('Afghanistan', 25500100, 652230), ('Algeria', 37100000, 2381741)]"
      ]
     },
     "execution_count": 58,
     "metadata": {},
     "output_type": "execute_result"
    }
   ],
   "source": [
    "lst"
   ]
  }
 ],
 "metadata": {
  "kernelspec": {
   "display_name": "Python 3 (ipykernel)",
   "language": "python",
   "name": "python3"
  },
  "language_info": {
   "codemirror_mode": {
    "name": "ipython",
    "version": 3
   },
   "file_extension": ".py",
   "mimetype": "text/x-python",
   "name": "python",
   "nbconvert_exporter": "python",
   "pygments_lexer": "ipython3",
   "version": "3.9.12"
  }
 },
 "nbformat": 4,
 "nbformat_minor": 5
}
