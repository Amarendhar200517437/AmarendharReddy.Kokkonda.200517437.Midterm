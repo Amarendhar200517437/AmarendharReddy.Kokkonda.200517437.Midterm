{
 "cells": [
  {
   "cell_type": "code",
   "execution_count": 26,
   "id": "859a1c15",
   "metadata": {},
   "outputs": [],
   "source": [
    "class PriorityQueue:\n",
    "    def __init__(self):\n",
    "        self.q = []\n",
    "    def insert(self,x):\n",
    "        self.q.append(x)\n",
    "    def min(self):\n",
    "        return min(self.q)\n",
    "    def removeMin(self):\n",
    "        self.q.remove(self.min())\n",
    "    def isEmpty(self):\n",
    "        return len(self.q)==0\n",
    "    def __len__(self):\n",
    "        return len(self.q)"
   ]
  },
  {
   "cell_type": "code",
   "execution_count": 27,
   "id": "058cc521",
   "metadata": {},
   "outputs": [
    {
     "name": "stdout",
     "output_type": "stream",
     "text": [
      "1\n",
      "2\n",
      "3\n",
      "False\n"
     ]
    }
   ],
   "source": [
    "pq = PriorityQueue() \n",
    "pq.insert(3)\n",
    "pq.insert(1)\n",
    "pq.insert(5)\n",
    "pq.insert(2)\n",
    "print(pq.min())\n",
    "pq.removeMin()\n",
    "print(pq.min())\n",
    "print(len(pq))\n",
    "print(pq.isEmpty())"
   ]
  }
 ],
 "metadata": {
  "kernelspec": {
   "display_name": "Python 3 (ipykernel)",
   "language": "python",
   "name": "python3"
  },
  "language_info": {
   "codemirror_mode": {
    "name": "ipython",
    "version": 3
   },
   "file_extension": ".py",
   "mimetype": "text/x-python",
   "name": "python",
   "nbconvert_exporter": "python",
   "pygments_lexer": "ipython3",
   "version": "3.9.12"
  }
 },
 "nbformat": 4,
 "nbformat_minor": 5
}
