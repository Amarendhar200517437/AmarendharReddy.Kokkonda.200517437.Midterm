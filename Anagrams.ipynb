{
 "cells": [
  {
   "cell_type": "code",
   "execution_count": 12,
   "id": "ebcd77c2",
   "metadata": {},
   "outputs": [],
   "source": [
    "def anagrams(words,trace):\n",
    "    a = open(\"C:\\\\Users\\Amarendhar Reddy\\OneDrive\\Documents\\words.txt\", \"r\")\n",
    "    for item in a.read().split():\n",
    "            w1=sorted(item)\n",
    "            w2=sorted(trace)\n",
    "            if(w1==w2):\n",
    "                print(''.join(item))"
   ]
  },
  {
   "cell_type": "code",
   "execution_count": 14,
   "id": "78799679",
   "metadata": {},
   "outputs": [
    {
     "name": "stdout",
     "output_type": "stream",
     "text": [
      "cater\n",
      "crate\n",
      "react\n"
     ]
    }
   ],
   "source": [
    "trace=\"trace\"\n",
    "anagrams(\"words.txt\",trace)"
   ]
  }
 ],
 "metadata": {
  "kernelspec": {
   "display_name": "Python 3 (ipykernel)",
   "language": "python",
   "name": "python3"
  },
  "language_info": {
   "codemirror_mode": {
    "name": "ipython",
    "version": 3
   },
   "file_extension": ".py",
   "mimetype": "text/x-python",
   "name": "python",
   "nbconvert_exporter": "python",
   "pygments_lexer": "ipython3",
   "version": "3.9.12"
  }
 },
 "nbformat": 4,
 "nbformat_minor": 5
}
